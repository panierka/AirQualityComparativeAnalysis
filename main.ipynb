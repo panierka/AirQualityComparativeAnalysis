{
 "cells": [
  {
   "cell_type": "code",
   "execution_count": 1,
   "metadata": {
    "collapsed": true,
    "pycharm": {
     "name": "#%%\n"
    }
   },
   "outputs": [],
   "source": [
    "import pandas as pd"
   ]
  },
  {
   "cell_type": "code",
   "execution_count": 2,
   "outputs": [
    {
     "data": {
      "text/plain": "                   NO        NO2        NOx        PM10  PM2.5        SO2  \\\n2007-01-01        NaN   9.521739        NaN   14.666667    NaN   4.000000   \n2007-01-02        NaN  17.347826        NaN   22.291667    NaN        NaN   \n2007-01-03        NaN  17.476190        NaN   17.217391    NaN   2.750000   \n2007-01-04        NaN  20.047619        NaN   13.333333    NaN  10.952381   \n2007-01-05        NaN  13.565217        NaN   13.791667    NaN   3.260870   \n...               ...        ...        ...         ...    ...        ...   \n2014-12-27  14.347826  26.782609  49.045455  124.708333  101.0  54.173913   \n2014-12-28   2.272727  10.000000  13.095238   53.500000   38.0  24.217391   \n2014-12-29   2.666667   8.272727  12.684211   36.625000   27.0  12.863636   \n2014-12-30  16.478261  16.739130  41.782609   67.142857   83.0  24.391304   \n2014-12-31   5.478261  18.434783  26.782609   88.913043   80.0  55.217391   \n\n              cisnienie        kier  opad_atm     predk  prom    temp  \\\n2007-01-01          NaN         NaN       NaN       NaN   NaN     NaN   \n2007-01-02          NaN         NaN       NaN       NaN   NaN     NaN   \n2007-01-03          NaN         NaN       NaN       NaN   NaN     NaN   \n2007-01-04          NaN         NaN       NaN       NaN   NaN     NaN   \n2007-01-05          NaN         NaN       NaN       NaN   NaN     NaN   \n...                 ...         ...       ...       ...   ...     ...   \n2014-12-27   986.083333  117.875000         0  1.154167   NaN  -8,458   \n2014-12-28   987.583333  224.521739         0  1.939130   NaN  -6,971   \n2014-12-29   994.750000  307.666667  0.008333  1.880952   NaN  -5,500   \n2014-12-30  1001.541667  253.260870  0.016667  0.808696   NaN  -8,371   \n2014-12-31  1002.666667  175.391304    -0,000  1.386957   NaN  -5,846   \n\n                 wilg  \n2007-01-01        NaN  \n2007-01-02        NaN  \n2007-01-03        NaN  \n2007-01-04        NaN  \n2007-01-05        NaN  \n...               ...  \n2014-12-27  94.833333  \n2014-12-28  90.291667  \n2014-12-29  90.458333  \n2014-12-30  89.166667  \n2014-12-31  80.500000  \n\n[2899 rows x 13 columns]",
      "text/html": "<div>\n<style scoped>\n    .dataframe tbody tr th:only-of-type {\n        vertical-align: middle;\n    }\n\n    .dataframe tbody tr th {\n        vertical-align: top;\n    }\n\n    .dataframe thead th {\n        text-align: right;\n    }\n</style>\n<table border=\"1\" class=\"dataframe\">\n  <thead>\n    <tr style=\"text-align: right;\">\n      <th></th>\n      <th>NO</th>\n      <th>NO2</th>\n      <th>NOx</th>\n      <th>PM10</th>\n      <th>PM2.5</th>\n      <th>SO2</th>\n      <th>cisnienie</th>\n      <th>kier</th>\n      <th>opad_atm</th>\n      <th>predk</th>\n      <th>prom</th>\n      <th>temp</th>\n      <th>wilg</th>\n    </tr>\n  </thead>\n  <tbody>\n    <tr>\n      <th>2007-01-01</th>\n      <td>NaN</td>\n      <td>9.521739</td>\n      <td>NaN</td>\n      <td>14.666667</td>\n      <td>NaN</td>\n      <td>4.000000</td>\n      <td>NaN</td>\n      <td>NaN</td>\n      <td>NaN</td>\n      <td>NaN</td>\n      <td>NaN</td>\n      <td>NaN</td>\n      <td>NaN</td>\n    </tr>\n    <tr>\n      <th>2007-01-02</th>\n      <td>NaN</td>\n      <td>17.347826</td>\n      <td>NaN</td>\n      <td>22.291667</td>\n      <td>NaN</td>\n      <td>NaN</td>\n      <td>NaN</td>\n      <td>NaN</td>\n      <td>NaN</td>\n      <td>NaN</td>\n      <td>NaN</td>\n      <td>NaN</td>\n      <td>NaN</td>\n    </tr>\n    <tr>\n      <th>2007-01-03</th>\n      <td>NaN</td>\n      <td>17.476190</td>\n      <td>NaN</td>\n      <td>17.217391</td>\n      <td>NaN</td>\n      <td>2.750000</td>\n      <td>NaN</td>\n      <td>NaN</td>\n      <td>NaN</td>\n      <td>NaN</td>\n      <td>NaN</td>\n      <td>NaN</td>\n      <td>NaN</td>\n    </tr>\n    <tr>\n      <th>2007-01-04</th>\n      <td>NaN</td>\n      <td>20.047619</td>\n      <td>NaN</td>\n      <td>13.333333</td>\n      <td>NaN</td>\n      <td>10.952381</td>\n      <td>NaN</td>\n      <td>NaN</td>\n      <td>NaN</td>\n      <td>NaN</td>\n      <td>NaN</td>\n      <td>NaN</td>\n      <td>NaN</td>\n    </tr>\n    <tr>\n      <th>2007-01-05</th>\n      <td>NaN</td>\n      <td>13.565217</td>\n      <td>NaN</td>\n      <td>13.791667</td>\n      <td>NaN</td>\n      <td>3.260870</td>\n      <td>NaN</td>\n      <td>NaN</td>\n      <td>NaN</td>\n      <td>NaN</td>\n      <td>NaN</td>\n      <td>NaN</td>\n      <td>NaN</td>\n    </tr>\n    <tr>\n      <th>...</th>\n      <td>...</td>\n      <td>...</td>\n      <td>...</td>\n      <td>...</td>\n      <td>...</td>\n      <td>...</td>\n      <td>...</td>\n      <td>...</td>\n      <td>...</td>\n      <td>...</td>\n      <td>...</td>\n      <td>...</td>\n      <td>...</td>\n    </tr>\n    <tr>\n      <th>2014-12-27</th>\n      <td>14.347826</td>\n      <td>26.782609</td>\n      <td>49.045455</td>\n      <td>124.708333</td>\n      <td>101.0</td>\n      <td>54.173913</td>\n      <td>986.083333</td>\n      <td>117.875000</td>\n      <td>0</td>\n      <td>1.154167</td>\n      <td>NaN</td>\n      <td>-8,458</td>\n      <td>94.833333</td>\n    </tr>\n    <tr>\n      <th>2014-12-28</th>\n      <td>2.272727</td>\n      <td>10.000000</td>\n      <td>13.095238</td>\n      <td>53.500000</td>\n      <td>38.0</td>\n      <td>24.217391</td>\n      <td>987.583333</td>\n      <td>224.521739</td>\n      <td>0</td>\n      <td>1.939130</td>\n      <td>NaN</td>\n      <td>-6,971</td>\n      <td>90.291667</td>\n    </tr>\n    <tr>\n      <th>2014-12-29</th>\n      <td>2.666667</td>\n      <td>8.272727</td>\n      <td>12.684211</td>\n      <td>36.625000</td>\n      <td>27.0</td>\n      <td>12.863636</td>\n      <td>994.750000</td>\n      <td>307.666667</td>\n      <td>0.008333</td>\n      <td>1.880952</td>\n      <td>NaN</td>\n      <td>-5,500</td>\n      <td>90.458333</td>\n    </tr>\n    <tr>\n      <th>2014-12-30</th>\n      <td>16.478261</td>\n      <td>16.739130</td>\n      <td>41.782609</td>\n      <td>67.142857</td>\n      <td>83.0</td>\n      <td>24.391304</td>\n      <td>1001.541667</td>\n      <td>253.260870</td>\n      <td>0.016667</td>\n      <td>0.808696</td>\n      <td>NaN</td>\n      <td>-8,371</td>\n      <td>89.166667</td>\n    </tr>\n    <tr>\n      <th>2014-12-31</th>\n      <td>5.478261</td>\n      <td>18.434783</td>\n      <td>26.782609</td>\n      <td>88.913043</td>\n      <td>80.0</td>\n      <td>55.217391</td>\n      <td>1002.666667</td>\n      <td>175.391304</td>\n      <td>-0,000</td>\n      <td>1.386957</td>\n      <td>NaN</td>\n      <td>-5,846</td>\n      <td>80.500000</td>\n    </tr>\n  </tbody>\n</table>\n<p>2899 rows × 13 columns</p>\n</div>"
     },
     "execution_count": 2,
     "metadata": {},
     "output_type": "execute_result"
    }
   ],
   "source": [
    "df_gliwice = pd.read_excel('data/Gliwice_poprawione.xls', index_col=0)\n",
    "df_gliwice"
   ],
   "metadata": {
    "collapsed": false,
    "pycharm": {
     "name": "#%%\n"
    }
   }
  },
  {
   "cell_type": "code",
   "execution_count": 3,
   "outputs": [
    {
     "data": {
      "text/plain": "                   NO        NO2        NOx         O3        PM10        SO2  \\\n2007-01-01        NaN  11.217391        NaN  50.416667   10.125000   9.608696   \n2007-01-02        NaN  17.956522        NaN  42.652174   17.291667   9.869565   \n2007-01-03        NaN  17.652174        NaN  33.608696   18.583333   8.782609   \n2007-01-04        NaN  11.956522        NaN  44.782609    8.333333   8.173913   \n2007-01-05        NaN  18.086957        NaN  38.739130   17.625000  13.826087   \n...               ...        ...        ...        ...         ...        ...   \n2014-12-27   5.818182  28.181818  36.863636        NaN   55.875000  38.363636   \n2014-12-28   1.739130  17.695652  20.086957        NaN   49.000000  19.652174   \n2014-12-29   2.130435  18.043478  20.956522        NaN   41.083333  13.000000   \n2014-12-30  16.695652  29.869565  55.217391        NaN   68.500000  23.347826   \n2014-12-31  18.913043  26.086957  54.608696        NaN  126.666667  41.000000   \n\n              cisnienie  kier  opad_atm  predk       prom    temp       wilg  \n2007-01-01          NaN   NaN       NaN    NaN        NaN     NaN        NaN  \n2007-01-02          NaN   NaN       NaN    NaN        NaN     NaN        NaN  \n2007-01-03          NaN   NaN       NaN    NaN        NaN     NaN        NaN  \n2007-01-04          NaN   NaN       NaN    NaN        NaN     NaN        NaN  \n2007-01-05          NaN   NaN       NaN    NaN        NaN     NaN        NaN  \n...                 ...   ...       ...    ...        ...     ...        ...  \n2014-12-27   984.541667   NaN  0.000000    NaN  14.416667  -7,663  86.916667  \n2014-12-28   985.625000   NaN  0.000000    NaN  10.666667  -6,154  82.750000  \n2014-12-29   992.916667   NaN  0.000000    NaN  14.333333  -5,408  79.333333  \n2014-12-30   999.958333   NaN  0.000000    NaN  27.708333  -8,054  77.083333  \n2014-12-31  1001.541667   NaN  0.008333    NaN  30.833333  -5,713  70.208333  \n\n[2894 rows x 13 columns]",
      "text/html": "<div>\n<style scoped>\n    .dataframe tbody tr th:only-of-type {\n        vertical-align: middle;\n    }\n\n    .dataframe tbody tr th {\n        vertical-align: top;\n    }\n\n    .dataframe thead th {\n        text-align: right;\n    }\n</style>\n<table border=\"1\" class=\"dataframe\">\n  <thead>\n    <tr style=\"text-align: right;\">\n      <th></th>\n      <th>NO</th>\n      <th>NO2</th>\n      <th>NOx</th>\n      <th>O3</th>\n      <th>PM10</th>\n      <th>SO2</th>\n      <th>cisnienie</th>\n      <th>kier</th>\n      <th>opad_atm</th>\n      <th>predk</th>\n      <th>prom</th>\n      <th>temp</th>\n      <th>wilg</th>\n    </tr>\n  </thead>\n  <tbody>\n    <tr>\n      <th>2007-01-01</th>\n      <td>NaN</td>\n      <td>11.217391</td>\n      <td>NaN</td>\n      <td>50.416667</td>\n      <td>10.125000</td>\n      <td>9.608696</td>\n      <td>NaN</td>\n      <td>NaN</td>\n      <td>NaN</td>\n      <td>NaN</td>\n      <td>NaN</td>\n      <td>NaN</td>\n      <td>NaN</td>\n    </tr>\n    <tr>\n      <th>2007-01-02</th>\n      <td>NaN</td>\n      <td>17.956522</td>\n      <td>NaN</td>\n      <td>42.652174</td>\n      <td>17.291667</td>\n      <td>9.869565</td>\n      <td>NaN</td>\n      <td>NaN</td>\n      <td>NaN</td>\n      <td>NaN</td>\n      <td>NaN</td>\n      <td>NaN</td>\n      <td>NaN</td>\n    </tr>\n    <tr>\n      <th>2007-01-03</th>\n      <td>NaN</td>\n      <td>17.652174</td>\n      <td>NaN</td>\n      <td>33.608696</td>\n      <td>18.583333</td>\n      <td>8.782609</td>\n      <td>NaN</td>\n      <td>NaN</td>\n      <td>NaN</td>\n      <td>NaN</td>\n      <td>NaN</td>\n      <td>NaN</td>\n      <td>NaN</td>\n    </tr>\n    <tr>\n      <th>2007-01-04</th>\n      <td>NaN</td>\n      <td>11.956522</td>\n      <td>NaN</td>\n      <td>44.782609</td>\n      <td>8.333333</td>\n      <td>8.173913</td>\n      <td>NaN</td>\n      <td>NaN</td>\n      <td>NaN</td>\n      <td>NaN</td>\n      <td>NaN</td>\n      <td>NaN</td>\n      <td>NaN</td>\n    </tr>\n    <tr>\n      <th>2007-01-05</th>\n      <td>NaN</td>\n      <td>18.086957</td>\n      <td>NaN</td>\n      <td>38.739130</td>\n      <td>17.625000</td>\n      <td>13.826087</td>\n      <td>NaN</td>\n      <td>NaN</td>\n      <td>NaN</td>\n      <td>NaN</td>\n      <td>NaN</td>\n      <td>NaN</td>\n      <td>NaN</td>\n    </tr>\n    <tr>\n      <th>...</th>\n      <td>...</td>\n      <td>...</td>\n      <td>...</td>\n      <td>...</td>\n      <td>...</td>\n      <td>...</td>\n      <td>...</td>\n      <td>...</td>\n      <td>...</td>\n      <td>...</td>\n      <td>...</td>\n      <td>...</td>\n      <td>...</td>\n    </tr>\n    <tr>\n      <th>2014-12-27</th>\n      <td>5.818182</td>\n      <td>28.181818</td>\n      <td>36.863636</td>\n      <td>NaN</td>\n      <td>55.875000</td>\n      <td>38.363636</td>\n      <td>984.541667</td>\n      <td>NaN</td>\n      <td>0.000000</td>\n      <td>NaN</td>\n      <td>14.416667</td>\n      <td>-7,663</td>\n      <td>86.916667</td>\n    </tr>\n    <tr>\n      <th>2014-12-28</th>\n      <td>1.739130</td>\n      <td>17.695652</td>\n      <td>20.086957</td>\n      <td>NaN</td>\n      <td>49.000000</td>\n      <td>19.652174</td>\n      <td>985.625000</td>\n      <td>NaN</td>\n      <td>0.000000</td>\n      <td>NaN</td>\n      <td>10.666667</td>\n      <td>-6,154</td>\n      <td>82.750000</td>\n    </tr>\n    <tr>\n      <th>2014-12-29</th>\n      <td>2.130435</td>\n      <td>18.043478</td>\n      <td>20.956522</td>\n      <td>NaN</td>\n      <td>41.083333</td>\n      <td>13.000000</td>\n      <td>992.916667</td>\n      <td>NaN</td>\n      <td>0.000000</td>\n      <td>NaN</td>\n      <td>14.333333</td>\n      <td>-5,408</td>\n      <td>79.333333</td>\n    </tr>\n    <tr>\n      <th>2014-12-30</th>\n      <td>16.695652</td>\n      <td>29.869565</td>\n      <td>55.217391</td>\n      <td>NaN</td>\n      <td>68.500000</td>\n      <td>23.347826</td>\n      <td>999.958333</td>\n      <td>NaN</td>\n      <td>0.000000</td>\n      <td>NaN</td>\n      <td>27.708333</td>\n      <td>-8,054</td>\n      <td>77.083333</td>\n    </tr>\n    <tr>\n      <th>2014-12-31</th>\n      <td>18.913043</td>\n      <td>26.086957</td>\n      <td>54.608696</td>\n      <td>NaN</td>\n      <td>126.666667</td>\n      <td>41.000000</td>\n      <td>1001.541667</td>\n      <td>NaN</td>\n      <td>0.008333</td>\n      <td>NaN</td>\n      <td>30.833333</td>\n      <td>-5,713</td>\n      <td>70.208333</td>\n    </tr>\n  </tbody>\n</table>\n<p>2894 rows × 13 columns</p>\n</div>"
     },
     "execution_count": 3,
     "metadata": {},
     "output_type": "execute_result"
    }
   ],
   "source": [
    "df_tychy = pd.read_excel('data/Tychy 24h 2007-2014.xlsx', header=3, skiprows=[4], index_col=0)\n",
    "df_tychy"
   ],
   "metadata": {
    "collapsed": false,
    "pycharm": {
     "name": "#%%\n"
    }
   }
  },
  {
   "cell_type": "code",
   "execution_count": 4,
   "outputs": [
    {
     "data": {
      "text/plain": "NO           float64\nNO2          float64\nNOx          float64\nPM10         float64\nPM2.5        float64\nSO2          float64\ncisnienie    float64\nkier         float64\nopad_atm      object\npredk        float64\nprom         float64\ntemp          object\nwilg         float64\ndtype: object"
     },
     "execution_count": 4,
     "metadata": {},
     "output_type": "execute_result"
    }
   ],
   "source": [
    "df_gliwice.dtypes"
   ],
   "metadata": {
    "collapsed": false,
    "pycharm": {
     "name": "#%%\n"
    }
   }
  },
  {
   "cell_type": "code",
   "execution_count": 5,
   "outputs": [],
   "source": [
    "df_gliwice['opad_atm'] = df_gliwice['opad_atm'].str.replace(',', '.').astype(float)"
   ],
   "metadata": {
    "collapsed": false,
    "pycharm": {
     "name": "#%%\n"
    }
   }
  },
  {
   "cell_type": "code",
   "execution_count": 6,
   "outputs": [],
   "source": [
    "df_gliwice['temp'] = df_gliwice['temp'].str.replace(',', '.').astype(float)"
   ],
   "metadata": {
    "collapsed": false,
    "pycharm": {
     "name": "#%%\n"
    }
   }
  },
  {
   "cell_type": "code",
   "execution_count": 13,
   "outputs": [
    {
     "data": {
      "text/plain": "NO           float64\nNO2          float64\nNOx          float64\nO3           float64\nPM10         float64\nSO2          float64\ncisnienie    float64\nkier         float64\nopad_atm     float64\npredk        float64\nprom         float64\ntemp         float64\nwilg         float64\ndtype: object"
     },
     "execution_count": 13,
     "metadata": {},
     "output_type": "execute_result"
    }
   ],
   "source": [
    "df_tychy.dtypes"
   ],
   "metadata": {
    "collapsed": false,
    "pycharm": {
     "name": "#%%\n"
    }
   }
  },
  {
   "cell_type": "code",
   "execution_count": 12,
   "outputs": [],
   "source": [
    "df_tychy['temp'] = df_tychy['temp'].str.replace(',', '.').astype(float)"
   ],
   "metadata": {
    "collapsed": false,
    "pycharm": {
     "name": "#%%\n"
    }
   }
  },
  {
   "cell_type": "code",
   "execution_count": 14,
   "outputs": [
    {
     "data": {
      "text/plain": "            NO_Gliwice  NO2_Gliwice  NOx_Gliwice  PM10_Gliwice  PM2.5_Gliwice  \\\n2007-01-01         NaN     9.521739          NaN     14.666667            NaN   \n2007-01-02         NaN    17.347826          NaN     22.291667            NaN   \n2007-01-03         NaN    17.476190          NaN     17.217391            NaN   \n2007-01-04         NaN    20.047619          NaN     13.333333            NaN   \n2007-01-05         NaN    13.565217          NaN     13.791667            NaN   \n...                ...          ...          ...           ...            ...   \n2014-12-27   14.347826    26.782609    49.045455    124.708333          101.0   \n2014-12-28    2.272727    10.000000    13.095238     53.500000           38.0   \n2014-12-29    2.666667     8.272727    12.684211     36.625000           27.0   \n2014-12-30   16.478261    16.739130    41.782609     67.142857           83.0   \n2014-12-31    5.478261    18.434783    26.782609     88.913043           80.0   \n\n            SO2_Gliwice  cisnienie_Gliwice  kier_Gliwice  opad_atm_Gliwice  \\\n2007-01-01     4.000000                NaN           NaN               NaN   \n2007-01-02          NaN                NaN           NaN               NaN   \n2007-01-03     2.750000                NaN           NaN               NaN   \n2007-01-04    10.952381                NaN           NaN               NaN   \n2007-01-05     3.260870                NaN           NaN               NaN   \n...                 ...                ...           ...               ...   \n2014-12-27    54.173913         986.083333    117.875000               NaN   \n2014-12-28    24.217391         987.583333    224.521739               NaN   \n2014-12-29    12.863636         994.750000    307.666667               NaN   \n2014-12-30    24.391304        1001.541667    253.260870               NaN   \n2014-12-31    55.217391        1002.666667    175.391304              -0.0   \n\n            predk_Gliwice  prom_Gliwice  temp_Gliwice  wilg_Gliwice  \n2007-01-01            NaN           NaN           NaN           NaN  \n2007-01-02            NaN           NaN           NaN           NaN  \n2007-01-03            NaN           NaN           NaN           NaN  \n2007-01-04            NaN           NaN           NaN           NaN  \n2007-01-05            NaN           NaN           NaN           NaN  \n...                   ...           ...           ...           ...  \n2014-12-27       1.154167           NaN        -8.458     94.833333  \n2014-12-28       1.939130           NaN        -6.971     90.291667  \n2014-12-29       1.880952           NaN        -5.500     90.458333  \n2014-12-30       0.808696           NaN        -8.371     89.166667  \n2014-12-31       1.386957           NaN        -5.846     80.500000  \n\n[2899 rows x 13 columns]",
      "text/html": "<div>\n<style scoped>\n    .dataframe tbody tr th:only-of-type {\n        vertical-align: middle;\n    }\n\n    .dataframe tbody tr th {\n        vertical-align: top;\n    }\n\n    .dataframe thead th {\n        text-align: right;\n    }\n</style>\n<table border=\"1\" class=\"dataframe\">\n  <thead>\n    <tr style=\"text-align: right;\">\n      <th></th>\n      <th>NO_Gliwice</th>\n      <th>NO2_Gliwice</th>\n      <th>NOx_Gliwice</th>\n      <th>PM10_Gliwice</th>\n      <th>PM2.5_Gliwice</th>\n      <th>SO2_Gliwice</th>\n      <th>cisnienie_Gliwice</th>\n      <th>kier_Gliwice</th>\n      <th>opad_atm_Gliwice</th>\n      <th>predk_Gliwice</th>\n      <th>prom_Gliwice</th>\n      <th>temp_Gliwice</th>\n      <th>wilg_Gliwice</th>\n    </tr>\n  </thead>\n  <tbody>\n    <tr>\n      <th>2007-01-01</th>\n      <td>NaN</td>\n      <td>9.521739</td>\n      <td>NaN</td>\n      <td>14.666667</td>\n      <td>NaN</td>\n      <td>4.000000</td>\n      <td>NaN</td>\n      <td>NaN</td>\n      <td>NaN</td>\n      <td>NaN</td>\n      <td>NaN</td>\n      <td>NaN</td>\n      <td>NaN</td>\n    </tr>\n    <tr>\n      <th>2007-01-02</th>\n      <td>NaN</td>\n      <td>17.347826</td>\n      <td>NaN</td>\n      <td>22.291667</td>\n      <td>NaN</td>\n      <td>NaN</td>\n      <td>NaN</td>\n      <td>NaN</td>\n      <td>NaN</td>\n      <td>NaN</td>\n      <td>NaN</td>\n      <td>NaN</td>\n      <td>NaN</td>\n    </tr>\n    <tr>\n      <th>2007-01-03</th>\n      <td>NaN</td>\n      <td>17.476190</td>\n      <td>NaN</td>\n      <td>17.217391</td>\n      <td>NaN</td>\n      <td>2.750000</td>\n      <td>NaN</td>\n      <td>NaN</td>\n      <td>NaN</td>\n      <td>NaN</td>\n      <td>NaN</td>\n      <td>NaN</td>\n      <td>NaN</td>\n    </tr>\n    <tr>\n      <th>2007-01-04</th>\n      <td>NaN</td>\n      <td>20.047619</td>\n      <td>NaN</td>\n      <td>13.333333</td>\n      <td>NaN</td>\n      <td>10.952381</td>\n      <td>NaN</td>\n      <td>NaN</td>\n      <td>NaN</td>\n      <td>NaN</td>\n      <td>NaN</td>\n      <td>NaN</td>\n      <td>NaN</td>\n    </tr>\n    <tr>\n      <th>2007-01-05</th>\n      <td>NaN</td>\n      <td>13.565217</td>\n      <td>NaN</td>\n      <td>13.791667</td>\n      <td>NaN</td>\n      <td>3.260870</td>\n      <td>NaN</td>\n      <td>NaN</td>\n      <td>NaN</td>\n      <td>NaN</td>\n      <td>NaN</td>\n      <td>NaN</td>\n      <td>NaN</td>\n    </tr>\n    <tr>\n      <th>...</th>\n      <td>...</td>\n      <td>...</td>\n      <td>...</td>\n      <td>...</td>\n      <td>...</td>\n      <td>...</td>\n      <td>...</td>\n      <td>...</td>\n      <td>...</td>\n      <td>...</td>\n      <td>...</td>\n      <td>...</td>\n      <td>...</td>\n    </tr>\n    <tr>\n      <th>2014-12-27</th>\n      <td>14.347826</td>\n      <td>26.782609</td>\n      <td>49.045455</td>\n      <td>124.708333</td>\n      <td>101.0</td>\n      <td>54.173913</td>\n      <td>986.083333</td>\n      <td>117.875000</td>\n      <td>NaN</td>\n      <td>1.154167</td>\n      <td>NaN</td>\n      <td>-8.458</td>\n      <td>94.833333</td>\n    </tr>\n    <tr>\n      <th>2014-12-28</th>\n      <td>2.272727</td>\n      <td>10.000000</td>\n      <td>13.095238</td>\n      <td>53.500000</td>\n      <td>38.0</td>\n      <td>24.217391</td>\n      <td>987.583333</td>\n      <td>224.521739</td>\n      <td>NaN</td>\n      <td>1.939130</td>\n      <td>NaN</td>\n      <td>-6.971</td>\n      <td>90.291667</td>\n    </tr>\n    <tr>\n      <th>2014-12-29</th>\n      <td>2.666667</td>\n      <td>8.272727</td>\n      <td>12.684211</td>\n      <td>36.625000</td>\n      <td>27.0</td>\n      <td>12.863636</td>\n      <td>994.750000</td>\n      <td>307.666667</td>\n      <td>NaN</td>\n      <td>1.880952</td>\n      <td>NaN</td>\n      <td>-5.500</td>\n      <td>90.458333</td>\n    </tr>\n    <tr>\n      <th>2014-12-30</th>\n      <td>16.478261</td>\n      <td>16.739130</td>\n      <td>41.782609</td>\n      <td>67.142857</td>\n      <td>83.0</td>\n      <td>24.391304</td>\n      <td>1001.541667</td>\n      <td>253.260870</td>\n      <td>NaN</td>\n      <td>0.808696</td>\n      <td>NaN</td>\n      <td>-8.371</td>\n      <td>89.166667</td>\n    </tr>\n    <tr>\n      <th>2014-12-31</th>\n      <td>5.478261</td>\n      <td>18.434783</td>\n      <td>26.782609</td>\n      <td>88.913043</td>\n      <td>80.0</td>\n      <td>55.217391</td>\n      <td>1002.666667</td>\n      <td>175.391304</td>\n      <td>-0.0</td>\n      <td>1.386957</td>\n      <td>NaN</td>\n      <td>-5.846</td>\n      <td>80.500000</td>\n    </tr>\n  </tbody>\n</table>\n<p>2899 rows × 13 columns</p>\n</div>"
     },
     "execution_count": 14,
     "metadata": {},
     "output_type": "execute_result"
    }
   ],
   "source": [
    "df_gliwice.columns = df_gliwice.columns.map(lambda x: x + '_Gliwice')\n",
    "df_gliwice"
   ],
   "metadata": {
    "collapsed": false,
    "pycharm": {
     "name": "#%%\n"
    }
   }
  },
  {
   "cell_type": "code",
   "execution_count": 15,
   "outputs": [
    {
     "data": {
      "text/plain": "             NO_Tychy  NO2_Tychy  NOx_Tychy   O3_Tychy  PM10_Tychy  SO2_Tychy  \\\n2007-01-01        NaN  11.217391        NaN  50.416667   10.125000   9.608696   \n2007-01-02        NaN  17.956522        NaN  42.652174   17.291667   9.869565   \n2007-01-03        NaN  17.652174        NaN  33.608696   18.583333   8.782609   \n2007-01-04        NaN  11.956522        NaN  44.782609    8.333333   8.173913   \n2007-01-05        NaN  18.086957        NaN  38.739130   17.625000  13.826087   \n...               ...        ...        ...        ...         ...        ...   \n2014-12-27   5.818182  28.181818  36.863636        NaN   55.875000  38.363636   \n2014-12-28   1.739130  17.695652  20.086957        NaN   49.000000  19.652174   \n2014-12-29   2.130435  18.043478  20.956522        NaN   41.083333  13.000000   \n2014-12-30  16.695652  29.869565  55.217391        NaN   68.500000  23.347826   \n2014-12-31  18.913043  26.086957  54.608696        NaN  126.666667  41.000000   \n\n            cisnienie_Tychy  kier_Tychy  opad_atm_Tychy  predk_Tychy  \\\n2007-01-01              NaN         NaN             NaN          NaN   \n2007-01-02              NaN         NaN             NaN          NaN   \n2007-01-03              NaN         NaN             NaN          NaN   \n2007-01-04              NaN         NaN             NaN          NaN   \n2007-01-05              NaN         NaN             NaN          NaN   \n...                     ...         ...             ...          ...   \n2014-12-27       984.541667         NaN        0.000000          NaN   \n2014-12-28       985.625000         NaN        0.000000          NaN   \n2014-12-29       992.916667         NaN        0.000000          NaN   \n2014-12-30       999.958333         NaN        0.000000          NaN   \n2014-12-31      1001.541667         NaN        0.008333          NaN   \n\n            prom_Tychy  temp_Tychy  wilg_Tychy  \n2007-01-01         NaN         NaN         NaN  \n2007-01-02         NaN         NaN         NaN  \n2007-01-03         NaN         NaN         NaN  \n2007-01-04         NaN         NaN         NaN  \n2007-01-05         NaN         NaN         NaN  \n...                ...         ...         ...  \n2014-12-27   14.416667      -7.663   86.916667  \n2014-12-28   10.666667      -6.154   82.750000  \n2014-12-29   14.333333      -5.408   79.333333  \n2014-12-30   27.708333      -8.054   77.083333  \n2014-12-31   30.833333      -5.713   70.208333  \n\n[2894 rows x 13 columns]",
      "text/html": "<div>\n<style scoped>\n    .dataframe tbody tr th:only-of-type {\n        vertical-align: middle;\n    }\n\n    .dataframe tbody tr th {\n        vertical-align: top;\n    }\n\n    .dataframe thead th {\n        text-align: right;\n    }\n</style>\n<table border=\"1\" class=\"dataframe\">\n  <thead>\n    <tr style=\"text-align: right;\">\n      <th></th>\n      <th>NO_Tychy</th>\n      <th>NO2_Tychy</th>\n      <th>NOx_Tychy</th>\n      <th>O3_Tychy</th>\n      <th>PM10_Tychy</th>\n      <th>SO2_Tychy</th>\n      <th>cisnienie_Tychy</th>\n      <th>kier_Tychy</th>\n      <th>opad_atm_Tychy</th>\n      <th>predk_Tychy</th>\n      <th>prom_Tychy</th>\n      <th>temp_Tychy</th>\n      <th>wilg_Tychy</th>\n    </tr>\n  </thead>\n  <tbody>\n    <tr>\n      <th>2007-01-01</th>\n      <td>NaN</td>\n      <td>11.217391</td>\n      <td>NaN</td>\n      <td>50.416667</td>\n      <td>10.125000</td>\n      <td>9.608696</td>\n      <td>NaN</td>\n      <td>NaN</td>\n      <td>NaN</td>\n      <td>NaN</td>\n      <td>NaN</td>\n      <td>NaN</td>\n      <td>NaN</td>\n    </tr>\n    <tr>\n      <th>2007-01-02</th>\n      <td>NaN</td>\n      <td>17.956522</td>\n      <td>NaN</td>\n      <td>42.652174</td>\n      <td>17.291667</td>\n      <td>9.869565</td>\n      <td>NaN</td>\n      <td>NaN</td>\n      <td>NaN</td>\n      <td>NaN</td>\n      <td>NaN</td>\n      <td>NaN</td>\n      <td>NaN</td>\n    </tr>\n    <tr>\n      <th>2007-01-03</th>\n      <td>NaN</td>\n      <td>17.652174</td>\n      <td>NaN</td>\n      <td>33.608696</td>\n      <td>18.583333</td>\n      <td>8.782609</td>\n      <td>NaN</td>\n      <td>NaN</td>\n      <td>NaN</td>\n      <td>NaN</td>\n      <td>NaN</td>\n      <td>NaN</td>\n      <td>NaN</td>\n    </tr>\n    <tr>\n      <th>2007-01-04</th>\n      <td>NaN</td>\n      <td>11.956522</td>\n      <td>NaN</td>\n      <td>44.782609</td>\n      <td>8.333333</td>\n      <td>8.173913</td>\n      <td>NaN</td>\n      <td>NaN</td>\n      <td>NaN</td>\n      <td>NaN</td>\n      <td>NaN</td>\n      <td>NaN</td>\n      <td>NaN</td>\n    </tr>\n    <tr>\n      <th>2007-01-05</th>\n      <td>NaN</td>\n      <td>18.086957</td>\n      <td>NaN</td>\n      <td>38.739130</td>\n      <td>17.625000</td>\n      <td>13.826087</td>\n      <td>NaN</td>\n      <td>NaN</td>\n      <td>NaN</td>\n      <td>NaN</td>\n      <td>NaN</td>\n      <td>NaN</td>\n      <td>NaN</td>\n    </tr>\n    <tr>\n      <th>...</th>\n      <td>...</td>\n      <td>...</td>\n      <td>...</td>\n      <td>...</td>\n      <td>...</td>\n      <td>...</td>\n      <td>...</td>\n      <td>...</td>\n      <td>...</td>\n      <td>...</td>\n      <td>...</td>\n      <td>...</td>\n      <td>...</td>\n    </tr>\n    <tr>\n      <th>2014-12-27</th>\n      <td>5.818182</td>\n      <td>28.181818</td>\n      <td>36.863636</td>\n      <td>NaN</td>\n      <td>55.875000</td>\n      <td>38.363636</td>\n      <td>984.541667</td>\n      <td>NaN</td>\n      <td>0.000000</td>\n      <td>NaN</td>\n      <td>14.416667</td>\n      <td>-7.663</td>\n      <td>86.916667</td>\n    </tr>\n    <tr>\n      <th>2014-12-28</th>\n      <td>1.739130</td>\n      <td>17.695652</td>\n      <td>20.086957</td>\n      <td>NaN</td>\n      <td>49.000000</td>\n      <td>19.652174</td>\n      <td>985.625000</td>\n      <td>NaN</td>\n      <td>0.000000</td>\n      <td>NaN</td>\n      <td>10.666667</td>\n      <td>-6.154</td>\n      <td>82.750000</td>\n    </tr>\n    <tr>\n      <th>2014-12-29</th>\n      <td>2.130435</td>\n      <td>18.043478</td>\n      <td>20.956522</td>\n      <td>NaN</td>\n      <td>41.083333</td>\n      <td>13.000000</td>\n      <td>992.916667</td>\n      <td>NaN</td>\n      <td>0.000000</td>\n      <td>NaN</td>\n      <td>14.333333</td>\n      <td>-5.408</td>\n      <td>79.333333</td>\n    </tr>\n    <tr>\n      <th>2014-12-30</th>\n      <td>16.695652</td>\n      <td>29.869565</td>\n      <td>55.217391</td>\n      <td>NaN</td>\n      <td>68.500000</td>\n      <td>23.347826</td>\n      <td>999.958333</td>\n      <td>NaN</td>\n      <td>0.000000</td>\n      <td>NaN</td>\n      <td>27.708333</td>\n      <td>-8.054</td>\n      <td>77.083333</td>\n    </tr>\n    <tr>\n      <th>2014-12-31</th>\n      <td>18.913043</td>\n      <td>26.086957</td>\n      <td>54.608696</td>\n      <td>NaN</td>\n      <td>126.666667</td>\n      <td>41.000000</td>\n      <td>1001.541667</td>\n      <td>NaN</td>\n      <td>0.008333</td>\n      <td>NaN</td>\n      <td>30.833333</td>\n      <td>-5.713</td>\n      <td>70.208333</td>\n    </tr>\n  </tbody>\n</table>\n<p>2894 rows × 13 columns</p>\n</div>"
     },
     "execution_count": 15,
     "metadata": {},
     "output_type": "execute_result"
    }
   ],
   "source": [
    "df_tychy.columns = df_tychy.columns.map(lambda x: x + '_Tychy')\n",
    "df_tychy"
   ],
   "metadata": {
    "collapsed": false,
    "pycharm": {
     "name": "#%%\n"
    }
   }
  },
  {
   "cell_type": "code",
   "execution_count": 19,
   "outputs": [
    {
     "data": {
      "text/plain": "            NO_Gliwice  NO2_Gliwice  NOx_Gliwice  PM10_Gliwice  PM2.5_Gliwice  \\\n2007-01-01         NaN     9.521739          NaN     14.666667            NaN   \n2007-01-02         NaN    17.347826          NaN     22.291667            NaN   \n2007-01-03         NaN    17.476190          NaN     17.217391            NaN   \n2007-01-04         NaN    20.047619          NaN     13.333333            NaN   \n2007-01-05         NaN    13.565217          NaN     13.791667            NaN   \n...                ...          ...          ...           ...            ...   \n2014-12-27   14.347826    26.782609    49.045455    124.708333          101.0   \n2014-12-28    2.272727    10.000000    13.095238     53.500000           38.0   \n2014-12-29    2.666667     8.272727    12.684211     36.625000           27.0   \n2014-12-30   16.478261    16.739130    41.782609     67.142857           83.0   \n2014-12-31    5.478261    18.434783    26.782609     88.913043           80.0   \n\n            SO2_Gliwice  cisnienie_Gliwice  kier_Gliwice  opad_atm_Gliwice  \\\n2007-01-01     4.000000                NaN           NaN               NaN   \n2007-01-02          NaN                NaN           NaN               NaN   \n2007-01-03     2.750000                NaN           NaN               NaN   \n2007-01-04    10.952381                NaN           NaN               NaN   \n2007-01-05     3.260870                NaN           NaN               NaN   \n...                 ...                ...           ...               ...   \n2014-12-27    54.173913         986.083333    117.875000               NaN   \n2014-12-28    24.217391         987.583333    224.521739               NaN   \n2014-12-29    12.863636         994.750000    307.666667               NaN   \n2014-12-30    24.391304        1001.541667    253.260870               NaN   \n2014-12-31    55.217391        1002.666667    175.391304              -0.0   \n\n            predk_Gliwice  ...   O3_Tychy  PM10_Tychy  SO2_Tychy  \\\n2007-01-01            NaN  ...  50.416667   10.125000   9.608696   \n2007-01-02            NaN  ...  42.652174   17.291667   9.869565   \n2007-01-03            NaN  ...  33.608696   18.583333   8.782609   \n2007-01-04            NaN  ...  44.782609    8.333333   8.173913   \n2007-01-05            NaN  ...  38.739130   17.625000  13.826087   \n...                   ...  ...        ...         ...        ...   \n2014-12-27       1.154167  ...        NaN   55.875000  38.363636   \n2014-12-28       1.939130  ...        NaN   49.000000  19.652174   \n2014-12-29       1.880952  ...        NaN   41.083333  13.000000   \n2014-12-30       0.808696  ...        NaN   68.500000  23.347826   \n2014-12-31       1.386957  ...        NaN  126.666667  41.000000   \n\n            cisnienie_Tychy  kier_Tychy  opad_atm_Tychy  predk_Tychy  \\\n2007-01-01              NaN         NaN             NaN          NaN   \n2007-01-02              NaN         NaN             NaN          NaN   \n2007-01-03              NaN         NaN             NaN          NaN   \n2007-01-04              NaN         NaN             NaN          NaN   \n2007-01-05              NaN         NaN             NaN          NaN   \n...                     ...         ...             ...          ...   \n2014-12-27       984.541667         NaN        0.000000          NaN   \n2014-12-28       985.625000         NaN        0.000000          NaN   \n2014-12-29       992.916667         NaN        0.000000          NaN   \n2014-12-30       999.958333         NaN        0.000000          NaN   \n2014-12-31      1001.541667         NaN        0.008333          NaN   \n\n            prom_Tychy  temp_Tychy  wilg_Tychy  \n2007-01-01         NaN         NaN         NaN  \n2007-01-02         NaN         NaN         NaN  \n2007-01-03         NaN         NaN         NaN  \n2007-01-04         NaN         NaN         NaN  \n2007-01-05         NaN         NaN         NaN  \n...                ...         ...         ...  \n2014-12-27   14.416667      -7.663   86.916667  \n2014-12-28   10.666667      -6.154   82.750000  \n2014-12-29   14.333333      -5.408   79.333333  \n2014-12-30   27.708333      -8.054   77.083333  \n2014-12-31   30.833333      -5.713   70.208333  \n\n[2871 rows x 26 columns]",
      "text/html": "<div>\n<style scoped>\n    .dataframe tbody tr th:only-of-type {\n        vertical-align: middle;\n    }\n\n    .dataframe tbody tr th {\n        vertical-align: top;\n    }\n\n    .dataframe thead th {\n        text-align: right;\n    }\n</style>\n<table border=\"1\" class=\"dataframe\">\n  <thead>\n    <tr style=\"text-align: right;\">\n      <th></th>\n      <th>NO_Gliwice</th>\n      <th>NO2_Gliwice</th>\n      <th>NOx_Gliwice</th>\n      <th>PM10_Gliwice</th>\n      <th>PM2.5_Gliwice</th>\n      <th>SO2_Gliwice</th>\n      <th>cisnienie_Gliwice</th>\n      <th>kier_Gliwice</th>\n      <th>opad_atm_Gliwice</th>\n      <th>predk_Gliwice</th>\n      <th>...</th>\n      <th>O3_Tychy</th>\n      <th>PM10_Tychy</th>\n      <th>SO2_Tychy</th>\n      <th>cisnienie_Tychy</th>\n      <th>kier_Tychy</th>\n      <th>opad_atm_Tychy</th>\n      <th>predk_Tychy</th>\n      <th>prom_Tychy</th>\n      <th>temp_Tychy</th>\n      <th>wilg_Tychy</th>\n    </tr>\n  </thead>\n  <tbody>\n    <tr>\n      <th>2007-01-01</th>\n      <td>NaN</td>\n      <td>9.521739</td>\n      <td>NaN</td>\n      <td>14.666667</td>\n      <td>NaN</td>\n      <td>4.000000</td>\n      <td>NaN</td>\n      <td>NaN</td>\n      <td>NaN</td>\n      <td>NaN</td>\n      <td>...</td>\n      <td>50.416667</td>\n      <td>10.125000</td>\n      <td>9.608696</td>\n      <td>NaN</td>\n      <td>NaN</td>\n      <td>NaN</td>\n      <td>NaN</td>\n      <td>NaN</td>\n      <td>NaN</td>\n      <td>NaN</td>\n    </tr>\n    <tr>\n      <th>2007-01-02</th>\n      <td>NaN</td>\n      <td>17.347826</td>\n      <td>NaN</td>\n      <td>22.291667</td>\n      <td>NaN</td>\n      <td>NaN</td>\n      <td>NaN</td>\n      <td>NaN</td>\n      <td>NaN</td>\n      <td>NaN</td>\n      <td>...</td>\n      <td>42.652174</td>\n      <td>17.291667</td>\n      <td>9.869565</td>\n      <td>NaN</td>\n      <td>NaN</td>\n      <td>NaN</td>\n      <td>NaN</td>\n      <td>NaN</td>\n      <td>NaN</td>\n      <td>NaN</td>\n    </tr>\n    <tr>\n      <th>2007-01-03</th>\n      <td>NaN</td>\n      <td>17.476190</td>\n      <td>NaN</td>\n      <td>17.217391</td>\n      <td>NaN</td>\n      <td>2.750000</td>\n      <td>NaN</td>\n      <td>NaN</td>\n      <td>NaN</td>\n      <td>NaN</td>\n      <td>...</td>\n      <td>33.608696</td>\n      <td>18.583333</td>\n      <td>8.782609</td>\n      <td>NaN</td>\n      <td>NaN</td>\n      <td>NaN</td>\n      <td>NaN</td>\n      <td>NaN</td>\n      <td>NaN</td>\n      <td>NaN</td>\n    </tr>\n    <tr>\n      <th>2007-01-04</th>\n      <td>NaN</td>\n      <td>20.047619</td>\n      <td>NaN</td>\n      <td>13.333333</td>\n      <td>NaN</td>\n      <td>10.952381</td>\n      <td>NaN</td>\n      <td>NaN</td>\n      <td>NaN</td>\n      <td>NaN</td>\n      <td>...</td>\n      <td>44.782609</td>\n      <td>8.333333</td>\n      <td>8.173913</td>\n      <td>NaN</td>\n      <td>NaN</td>\n      <td>NaN</td>\n      <td>NaN</td>\n      <td>NaN</td>\n      <td>NaN</td>\n      <td>NaN</td>\n    </tr>\n    <tr>\n      <th>2007-01-05</th>\n      <td>NaN</td>\n      <td>13.565217</td>\n      <td>NaN</td>\n      <td>13.791667</td>\n      <td>NaN</td>\n      <td>3.260870</td>\n      <td>NaN</td>\n      <td>NaN</td>\n      <td>NaN</td>\n      <td>NaN</td>\n      <td>...</td>\n      <td>38.739130</td>\n      <td>17.625000</td>\n      <td>13.826087</td>\n      <td>NaN</td>\n      <td>NaN</td>\n      <td>NaN</td>\n      <td>NaN</td>\n      <td>NaN</td>\n      <td>NaN</td>\n      <td>NaN</td>\n    </tr>\n    <tr>\n      <th>...</th>\n      <td>...</td>\n      <td>...</td>\n      <td>...</td>\n      <td>...</td>\n      <td>...</td>\n      <td>...</td>\n      <td>...</td>\n      <td>...</td>\n      <td>...</td>\n      <td>...</td>\n      <td>...</td>\n      <td>...</td>\n      <td>...</td>\n      <td>...</td>\n      <td>...</td>\n      <td>...</td>\n      <td>...</td>\n      <td>...</td>\n      <td>...</td>\n      <td>...</td>\n      <td>...</td>\n    </tr>\n    <tr>\n      <th>2014-12-27</th>\n      <td>14.347826</td>\n      <td>26.782609</td>\n      <td>49.045455</td>\n      <td>124.708333</td>\n      <td>101.0</td>\n      <td>54.173913</td>\n      <td>986.083333</td>\n      <td>117.875000</td>\n      <td>NaN</td>\n      <td>1.154167</td>\n      <td>...</td>\n      <td>NaN</td>\n      <td>55.875000</td>\n      <td>38.363636</td>\n      <td>984.541667</td>\n      <td>NaN</td>\n      <td>0.000000</td>\n      <td>NaN</td>\n      <td>14.416667</td>\n      <td>-7.663</td>\n      <td>86.916667</td>\n    </tr>\n    <tr>\n      <th>2014-12-28</th>\n      <td>2.272727</td>\n      <td>10.000000</td>\n      <td>13.095238</td>\n      <td>53.500000</td>\n      <td>38.0</td>\n      <td>24.217391</td>\n      <td>987.583333</td>\n      <td>224.521739</td>\n      <td>NaN</td>\n      <td>1.939130</td>\n      <td>...</td>\n      <td>NaN</td>\n      <td>49.000000</td>\n      <td>19.652174</td>\n      <td>985.625000</td>\n      <td>NaN</td>\n      <td>0.000000</td>\n      <td>NaN</td>\n      <td>10.666667</td>\n      <td>-6.154</td>\n      <td>82.750000</td>\n    </tr>\n    <tr>\n      <th>2014-12-29</th>\n      <td>2.666667</td>\n      <td>8.272727</td>\n      <td>12.684211</td>\n      <td>36.625000</td>\n      <td>27.0</td>\n      <td>12.863636</td>\n      <td>994.750000</td>\n      <td>307.666667</td>\n      <td>NaN</td>\n      <td>1.880952</td>\n      <td>...</td>\n      <td>NaN</td>\n      <td>41.083333</td>\n      <td>13.000000</td>\n      <td>992.916667</td>\n      <td>NaN</td>\n      <td>0.000000</td>\n      <td>NaN</td>\n      <td>14.333333</td>\n      <td>-5.408</td>\n      <td>79.333333</td>\n    </tr>\n    <tr>\n      <th>2014-12-30</th>\n      <td>16.478261</td>\n      <td>16.739130</td>\n      <td>41.782609</td>\n      <td>67.142857</td>\n      <td>83.0</td>\n      <td>24.391304</td>\n      <td>1001.541667</td>\n      <td>253.260870</td>\n      <td>NaN</td>\n      <td>0.808696</td>\n      <td>...</td>\n      <td>NaN</td>\n      <td>68.500000</td>\n      <td>23.347826</td>\n      <td>999.958333</td>\n      <td>NaN</td>\n      <td>0.000000</td>\n      <td>NaN</td>\n      <td>27.708333</td>\n      <td>-8.054</td>\n      <td>77.083333</td>\n    </tr>\n    <tr>\n      <th>2014-12-31</th>\n      <td>5.478261</td>\n      <td>18.434783</td>\n      <td>26.782609</td>\n      <td>88.913043</td>\n      <td>80.0</td>\n      <td>55.217391</td>\n      <td>1002.666667</td>\n      <td>175.391304</td>\n      <td>-0.0</td>\n      <td>1.386957</td>\n      <td>...</td>\n      <td>NaN</td>\n      <td>126.666667</td>\n      <td>41.000000</td>\n      <td>1001.541667</td>\n      <td>NaN</td>\n      <td>0.008333</td>\n      <td>NaN</td>\n      <td>30.833333</td>\n      <td>-5.713</td>\n      <td>70.208333</td>\n    </tr>\n  </tbody>\n</table>\n<p>2871 rows × 26 columns</p>\n</div>"
     },
     "execution_count": 19,
     "metadata": {},
     "output_type": "execute_result"
    }
   ],
   "source": [
    "df = pd.merge(df_gliwice, df_tychy, left_index=True, right_index=True)\n",
    "df"
   ],
   "metadata": {
    "collapsed": false,
    "pycharm": {
     "name": "#%%\n"
    }
   }
  },
  {
   "cell_type": "code",
   "execution_count": 29,
   "outputs": [
    {
     "data": {
      "text/plain": "                   Ważne obserwacje  % Ważnych obserwacji     Średnia  \\\nNO_Gliwice                     2124                  74.0   11.184276   \nNO2_Gliwice                    2797                  97.4   25.326198   \nNOx_Gliwice                    2452                  85.4   42.696769   \nPM10_Gliwice                   2508                  87.4   45.938730   \nPM2.5_Gliwice                  1738                  60.5   36.603855   \nSO2_Gliwice                    2693                  93.8   13.128484   \ncisnienie_Gliwice              1423                  49.6  986.236537   \nkier_Gliwice                   1751                  61.0  187.352009   \nopad_atm_Gliwice                  1                   0.0    0.000000   \npredk_Gliwice                  1445                  50.3    1.100144   \nprom_Gliwice                   1306                  45.5   95.236933   \ntemp_Gliwice                    170                   5.9   -4.838588   \nwilg_Gliwice                   1177                  41.0   69.317697   \nNO_Tychy                       2373                  82.7   12.517108   \nNO2_Tychy                      2670                  93.0   25.084916   \nNOx_Tychy                      2450                  85.3   44.178931   \nO3_Tychy                       1327                  46.2   42.519503   \nPM10_Tychy                     2657                  92.5   40.657366   \nSO2_Tychy                      2828                  98.5   16.335227   \ncisnienie_Tychy                1798                  62.6  983.795745   \nkier_Tychy                     1084                  37.8  197.125569   \nopad_atm_Tychy                  376                  13.1    0.074613   \npredk_Tychy                    1084                  37.8    0.926692   \nprom_Tychy                     1817                  63.3  116.227335   \ntemp_Tychy                      351                  12.2   -4.206655   \nwilg_Tychy                     1435                  50.0   86.703238   \n\n                      Mediana     Minimum     Maksimum  Odchylenie standardowe  \nNO_Gliwice           4.800395    0.000000   202.565217               16.936140  \nNO2_Gliwice         23.565217    2.869565    89.086957               13.013892  \nNOx_Gliwice         31.978261    3.304348   369.782609               36.409990  \nPM10_Gliwice        36.062500    6.695652   344.958333               35.097714  \nPM2.5_Gliwice       26.000000    2.500000   256.000000               32.937656  \nSO2_Gliwice          8.217391    1.391304   125.043478               14.176684  \ncisnienie_Gliwice  986.291667  955.833333  1007.500000                7.655227  \nkier_Gliwice       191.333333    0.408333   340.916667               73.062782  \nopad_atm_Gliwice    -0.000000   -0.000000    -0.000000                     NaN  \npredk_Gliwice        0.960870    0.216667     5.416667                0.586203  \nprom_Gliwice        71.291667    1.000000   293.208333               77.998622  \ntemp_Gliwice        -3.633500  -20.058000    -0.050000                4.436891  \nwilg_Gliwice        75.041667    0.291667    99.000000               21.645064  \nNO_Tychy             5.695652    0.043478   170.333333               18.424991  \nNO2_Tychy           22.956522    5.652174    95.000000               11.253725  \nNOx_Tychy           32.804348    7.086957   353.869565               36.381298  \nO3_Tychy            43.260870    1.608696   112.478261               20.984580  \nPM10_Tychy          31.541667    5.166667   417.208333               32.513401  \nSO2_Tychy           10.913043    1.695652   175.608696               16.106226  \ncisnienie_Tychy    984.083333  954.291667  1005.625000                7.505499  \nkier_Tychy         215.937500   20.541667   337.125000               67.359472  \nopad_atm_Tychy       0.000000    0.000000     1.266667                0.187134  \npredk_Tychy          0.758333    0.070833     3.329167                0.543979  \nprom_Tychy          87.708333    1.791667   401.416667               94.296819  \ntemp_Tychy          -2.833000  -18.275000    -0.046000                3.975205  \nwilg_Tychy          90.590909   33.583333    99.000000               12.691209  ",
      "text/html": "<div>\n<style scoped>\n    .dataframe tbody tr th:only-of-type {\n        vertical-align: middle;\n    }\n\n    .dataframe tbody tr th {\n        vertical-align: top;\n    }\n\n    .dataframe thead th {\n        text-align: right;\n    }\n</style>\n<table border=\"1\" class=\"dataframe\">\n  <thead>\n    <tr style=\"text-align: right;\">\n      <th></th>\n      <th>Ważne obserwacje</th>\n      <th>% Ważnych obserwacji</th>\n      <th>Średnia</th>\n      <th>Mediana</th>\n      <th>Minimum</th>\n      <th>Maksimum</th>\n      <th>Odchylenie standardowe</th>\n    </tr>\n  </thead>\n  <tbody>\n    <tr>\n      <th>NO_Gliwice</th>\n      <td>2124</td>\n      <td>74.0</td>\n      <td>11.184276</td>\n      <td>4.800395</td>\n      <td>0.000000</td>\n      <td>202.565217</td>\n      <td>16.936140</td>\n    </tr>\n    <tr>\n      <th>NO2_Gliwice</th>\n      <td>2797</td>\n      <td>97.4</td>\n      <td>25.326198</td>\n      <td>23.565217</td>\n      <td>2.869565</td>\n      <td>89.086957</td>\n      <td>13.013892</td>\n    </tr>\n    <tr>\n      <th>NOx_Gliwice</th>\n      <td>2452</td>\n      <td>85.4</td>\n      <td>42.696769</td>\n      <td>31.978261</td>\n      <td>3.304348</td>\n      <td>369.782609</td>\n      <td>36.409990</td>\n    </tr>\n    <tr>\n      <th>PM10_Gliwice</th>\n      <td>2508</td>\n      <td>87.4</td>\n      <td>45.938730</td>\n      <td>36.062500</td>\n      <td>6.695652</td>\n      <td>344.958333</td>\n      <td>35.097714</td>\n    </tr>\n    <tr>\n      <th>PM2.5_Gliwice</th>\n      <td>1738</td>\n      <td>60.5</td>\n      <td>36.603855</td>\n      <td>26.000000</td>\n      <td>2.500000</td>\n      <td>256.000000</td>\n      <td>32.937656</td>\n    </tr>\n    <tr>\n      <th>SO2_Gliwice</th>\n      <td>2693</td>\n      <td>93.8</td>\n      <td>13.128484</td>\n      <td>8.217391</td>\n      <td>1.391304</td>\n      <td>125.043478</td>\n      <td>14.176684</td>\n    </tr>\n    <tr>\n      <th>cisnienie_Gliwice</th>\n      <td>1423</td>\n      <td>49.6</td>\n      <td>986.236537</td>\n      <td>986.291667</td>\n      <td>955.833333</td>\n      <td>1007.500000</td>\n      <td>7.655227</td>\n    </tr>\n    <tr>\n      <th>kier_Gliwice</th>\n      <td>1751</td>\n      <td>61.0</td>\n      <td>187.352009</td>\n      <td>191.333333</td>\n      <td>0.408333</td>\n      <td>340.916667</td>\n      <td>73.062782</td>\n    </tr>\n    <tr>\n      <th>opad_atm_Gliwice</th>\n      <td>1</td>\n      <td>0.0</td>\n      <td>0.000000</td>\n      <td>-0.000000</td>\n      <td>-0.000000</td>\n      <td>-0.000000</td>\n      <td>NaN</td>\n    </tr>\n    <tr>\n      <th>predk_Gliwice</th>\n      <td>1445</td>\n      <td>50.3</td>\n      <td>1.100144</td>\n      <td>0.960870</td>\n      <td>0.216667</td>\n      <td>5.416667</td>\n      <td>0.586203</td>\n    </tr>\n    <tr>\n      <th>prom_Gliwice</th>\n      <td>1306</td>\n      <td>45.5</td>\n      <td>95.236933</td>\n      <td>71.291667</td>\n      <td>1.000000</td>\n      <td>293.208333</td>\n      <td>77.998622</td>\n    </tr>\n    <tr>\n      <th>temp_Gliwice</th>\n      <td>170</td>\n      <td>5.9</td>\n      <td>-4.838588</td>\n      <td>-3.633500</td>\n      <td>-20.058000</td>\n      <td>-0.050000</td>\n      <td>4.436891</td>\n    </tr>\n    <tr>\n      <th>wilg_Gliwice</th>\n      <td>1177</td>\n      <td>41.0</td>\n      <td>69.317697</td>\n      <td>75.041667</td>\n      <td>0.291667</td>\n      <td>99.000000</td>\n      <td>21.645064</td>\n    </tr>\n    <tr>\n      <th>NO_Tychy</th>\n      <td>2373</td>\n      <td>82.7</td>\n      <td>12.517108</td>\n      <td>5.695652</td>\n      <td>0.043478</td>\n      <td>170.333333</td>\n      <td>18.424991</td>\n    </tr>\n    <tr>\n      <th>NO2_Tychy</th>\n      <td>2670</td>\n      <td>93.0</td>\n      <td>25.084916</td>\n      <td>22.956522</td>\n      <td>5.652174</td>\n      <td>95.000000</td>\n      <td>11.253725</td>\n    </tr>\n    <tr>\n      <th>NOx_Tychy</th>\n      <td>2450</td>\n      <td>85.3</td>\n      <td>44.178931</td>\n      <td>32.804348</td>\n      <td>7.086957</td>\n      <td>353.869565</td>\n      <td>36.381298</td>\n    </tr>\n    <tr>\n      <th>O3_Tychy</th>\n      <td>1327</td>\n      <td>46.2</td>\n      <td>42.519503</td>\n      <td>43.260870</td>\n      <td>1.608696</td>\n      <td>112.478261</td>\n      <td>20.984580</td>\n    </tr>\n    <tr>\n      <th>PM10_Tychy</th>\n      <td>2657</td>\n      <td>92.5</td>\n      <td>40.657366</td>\n      <td>31.541667</td>\n      <td>5.166667</td>\n      <td>417.208333</td>\n      <td>32.513401</td>\n    </tr>\n    <tr>\n      <th>SO2_Tychy</th>\n      <td>2828</td>\n      <td>98.5</td>\n      <td>16.335227</td>\n      <td>10.913043</td>\n      <td>1.695652</td>\n      <td>175.608696</td>\n      <td>16.106226</td>\n    </tr>\n    <tr>\n      <th>cisnienie_Tychy</th>\n      <td>1798</td>\n      <td>62.6</td>\n      <td>983.795745</td>\n      <td>984.083333</td>\n      <td>954.291667</td>\n      <td>1005.625000</td>\n      <td>7.505499</td>\n    </tr>\n    <tr>\n      <th>kier_Tychy</th>\n      <td>1084</td>\n      <td>37.8</td>\n      <td>197.125569</td>\n      <td>215.937500</td>\n      <td>20.541667</td>\n      <td>337.125000</td>\n      <td>67.359472</td>\n    </tr>\n    <tr>\n      <th>opad_atm_Tychy</th>\n      <td>376</td>\n      <td>13.1</td>\n      <td>0.074613</td>\n      <td>0.000000</td>\n      <td>0.000000</td>\n      <td>1.266667</td>\n      <td>0.187134</td>\n    </tr>\n    <tr>\n      <th>predk_Tychy</th>\n      <td>1084</td>\n      <td>37.8</td>\n      <td>0.926692</td>\n      <td>0.758333</td>\n      <td>0.070833</td>\n      <td>3.329167</td>\n      <td>0.543979</td>\n    </tr>\n    <tr>\n      <th>prom_Tychy</th>\n      <td>1817</td>\n      <td>63.3</td>\n      <td>116.227335</td>\n      <td>87.708333</td>\n      <td>1.791667</td>\n      <td>401.416667</td>\n      <td>94.296819</td>\n    </tr>\n    <tr>\n      <th>temp_Tychy</th>\n      <td>351</td>\n      <td>12.2</td>\n      <td>-4.206655</td>\n      <td>-2.833000</td>\n      <td>-18.275000</td>\n      <td>-0.046000</td>\n      <td>3.975205</td>\n    </tr>\n    <tr>\n      <th>wilg_Tychy</th>\n      <td>1435</td>\n      <td>50.0</td>\n      <td>86.703238</td>\n      <td>90.590909</td>\n      <td>33.583333</td>\n      <td>99.000000</td>\n      <td>12.691209</td>\n    </tr>\n  </tbody>\n</table>\n</div>"
     },
     "execution_count": 29,
     "metadata": {},
     "output_type": "execute_result"
    }
   ],
   "source": [
    "stats = pd.DataFrame({\n",
    "    'Ważne obserwacje': (~df.isna()).sum(),\n",
    "    '% Ważnych obserwacji': round((~df.isna()).sum() / len(df) * 100, 1),\n",
    "    'Średnia': df.mean(),\n",
    "    'Mediana': df.median(),\n",
    "    'Minimum': df.min(),\n",
    "    'Maksimum': df.max(),\n",
    "    'Odchylenie standardowe': df.std()\n",
    "})\n",
    "\n",
    "stats"
   ],
   "metadata": {
    "collapsed": false,
    "pycharm": {
     "name": "#%%\n"
    }
   }
  },
  {
   "cell_type": "code",
   "execution_count": 30,
   "outputs": [
    {
     "data": {
      "text/plain": "              Ważne obserwacje  % Ważnych obserwacji    Średnia    Mediana  \\\nNO_Gliwice                2124                  74.0  11.184276   4.800395   \nNO2_Gliwice               2797                  97.4  25.326198  23.565217   \nNOx_Gliwice               2452                  85.4  42.696769  31.978261   \nPM10_Gliwice              2508                  87.4  45.938730  36.062500   \nSO2_Gliwice               2693                  93.8  13.128484   8.217391   \nNO_Tychy                  2373                  82.7  12.517108   5.695652   \nNO2_Tychy                 2670                  93.0  25.084916  22.956522   \nNOx_Tychy                 2450                  85.3  44.178931  32.804348   \nPM10_Tychy                2657                  92.5  40.657366  31.541667   \nSO2_Tychy                 2828                  98.5  16.335227  10.913043   \n\n               Minimum    Maksimum  Odchylenie standardowe  \nNO_Gliwice    0.000000  202.565217               16.936140  \nNO2_Gliwice   2.869565   89.086957               13.013892  \nNOx_Gliwice   3.304348  369.782609               36.409990  \nPM10_Gliwice  6.695652  344.958333               35.097714  \nSO2_Gliwice   1.391304  125.043478               14.176684  \nNO_Tychy      0.043478  170.333333               18.424991  \nNO2_Tychy     5.652174   95.000000               11.253725  \nNOx_Tychy     7.086957  353.869565               36.381298  \nPM10_Tychy    5.166667  417.208333               32.513401  \nSO2_Tychy     1.695652  175.608696               16.106226  ",
      "text/html": "<div>\n<style scoped>\n    .dataframe tbody tr th:only-of-type {\n        vertical-align: middle;\n    }\n\n    .dataframe tbody tr th {\n        vertical-align: top;\n    }\n\n    .dataframe thead th {\n        text-align: right;\n    }\n</style>\n<table border=\"1\" class=\"dataframe\">\n  <thead>\n    <tr style=\"text-align: right;\">\n      <th></th>\n      <th>Ważne obserwacje</th>\n      <th>% Ważnych obserwacji</th>\n      <th>Średnia</th>\n      <th>Mediana</th>\n      <th>Minimum</th>\n      <th>Maksimum</th>\n      <th>Odchylenie standardowe</th>\n    </tr>\n  </thead>\n  <tbody>\n    <tr>\n      <th>NO_Gliwice</th>\n      <td>2124</td>\n      <td>74.0</td>\n      <td>11.184276</td>\n      <td>4.800395</td>\n      <td>0.000000</td>\n      <td>202.565217</td>\n      <td>16.936140</td>\n    </tr>\n    <tr>\n      <th>NO2_Gliwice</th>\n      <td>2797</td>\n      <td>97.4</td>\n      <td>25.326198</td>\n      <td>23.565217</td>\n      <td>2.869565</td>\n      <td>89.086957</td>\n      <td>13.013892</td>\n    </tr>\n    <tr>\n      <th>NOx_Gliwice</th>\n      <td>2452</td>\n      <td>85.4</td>\n      <td>42.696769</td>\n      <td>31.978261</td>\n      <td>3.304348</td>\n      <td>369.782609</td>\n      <td>36.409990</td>\n    </tr>\n    <tr>\n      <th>PM10_Gliwice</th>\n      <td>2508</td>\n      <td>87.4</td>\n      <td>45.938730</td>\n      <td>36.062500</td>\n      <td>6.695652</td>\n      <td>344.958333</td>\n      <td>35.097714</td>\n    </tr>\n    <tr>\n      <th>SO2_Gliwice</th>\n      <td>2693</td>\n      <td>93.8</td>\n      <td>13.128484</td>\n      <td>8.217391</td>\n      <td>1.391304</td>\n      <td>125.043478</td>\n      <td>14.176684</td>\n    </tr>\n    <tr>\n      <th>NO_Tychy</th>\n      <td>2373</td>\n      <td>82.7</td>\n      <td>12.517108</td>\n      <td>5.695652</td>\n      <td>0.043478</td>\n      <td>170.333333</td>\n      <td>18.424991</td>\n    </tr>\n    <tr>\n      <th>NO2_Tychy</th>\n      <td>2670</td>\n      <td>93.0</td>\n      <td>25.084916</td>\n      <td>22.956522</td>\n      <td>5.652174</td>\n      <td>95.000000</td>\n      <td>11.253725</td>\n    </tr>\n    <tr>\n      <th>NOx_Tychy</th>\n      <td>2450</td>\n      <td>85.3</td>\n      <td>44.178931</td>\n      <td>32.804348</td>\n      <td>7.086957</td>\n      <td>353.869565</td>\n      <td>36.381298</td>\n    </tr>\n    <tr>\n      <th>PM10_Tychy</th>\n      <td>2657</td>\n      <td>92.5</td>\n      <td>40.657366</td>\n      <td>31.541667</td>\n      <td>5.166667</td>\n      <td>417.208333</td>\n      <td>32.513401</td>\n    </tr>\n    <tr>\n      <th>SO2_Tychy</th>\n      <td>2828</td>\n      <td>98.5</td>\n      <td>16.335227</td>\n      <td>10.913043</td>\n      <td>1.695652</td>\n      <td>175.608696</td>\n      <td>16.106226</td>\n    </tr>\n  </tbody>\n</table>\n</div>"
     },
     "execution_count": 30,
     "metadata": {},
     "output_type": "execute_result"
    }
   ],
   "source": [
    "stats[stats['% Ważnych obserwacji'] > 70]"
   ],
   "metadata": {
    "collapsed": false,
    "pycharm": {
     "name": "#%%\n"
    }
   }
  }
 ],
 "metadata": {
  "kernelspec": {
   "display_name": "Python 3",
   "language": "python",
   "name": "python3"
  },
  "language_info": {
   "codemirror_mode": {
    "name": "ipython",
    "version": 2
   },
   "file_extension": ".py",
   "mimetype": "text/x-python",
   "name": "python",
   "nbconvert_exporter": "python",
   "pygments_lexer": "ipython2",
   "version": "2.7.6"
  }
 },
 "nbformat": 4,
 "nbformat_minor": 0
}