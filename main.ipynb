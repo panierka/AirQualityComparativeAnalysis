{
 "cells": [
  {
   "cell_type": "code",
   "execution_count": 1,
   "metadata": {
    "collapsed": true,
    "pycharm": {
     "name": "#%%\n"
    }
   },
   "outputs": [],
   "source": [
    "import pandas as pd"
   ]
  },
  {
   "cell_type": "code",
   "execution_count": 12,
   "outputs": [
    {
     "data": {
      "text/plain": "                   NO        NO2        NOx        PM10  PM2.5        SO2  \\\n2007-01-01        NaN   9.521739        NaN   14.666667    NaN   4.000000   \n2007-01-02        NaN  17.347826        NaN   22.291667    NaN        NaN   \n2007-01-03        NaN  17.476190        NaN   17.217391    NaN   2.750000   \n2007-01-04        NaN  20.047619        NaN   13.333333    NaN  10.952381   \n2007-01-05        NaN  13.565217        NaN   13.791667    NaN   3.260870   \n...               ...        ...        ...         ...    ...        ...   \n2014-12-27  14.347826  26.782609  49.045455  124.708333  101.0  54.173913   \n2014-12-28   2.272727  10.000000  13.095238   53.500000   38.0  24.217391   \n2014-12-29   2.666667   8.272727  12.684211   36.625000   27.0  12.863636   \n2014-12-30  16.478261  16.739130  41.782609   67.142857   83.0  24.391304   \n2014-12-31   5.478261  18.434783  26.782609   88.913043   80.0  55.217391   \n\n              cisnienie        kier  opad_atm     predk  prom    temp  \\\n2007-01-01          NaN         NaN       NaN       NaN   NaN     NaN   \n2007-01-02          NaN         NaN       NaN       NaN   NaN     NaN   \n2007-01-03          NaN         NaN       NaN       NaN   NaN     NaN   \n2007-01-04          NaN         NaN       NaN       NaN   NaN     NaN   \n2007-01-05          NaN         NaN       NaN       NaN   NaN     NaN   \n...                 ...         ...       ...       ...   ...     ...   \n2014-12-27   986.083333  117.875000         0  1.154167   NaN  -8,458   \n2014-12-28   987.583333  224.521739         0  1.939130   NaN  -6,971   \n2014-12-29   994.750000  307.666667  0.008333  1.880952   NaN  -5,500   \n2014-12-30  1001.541667  253.260870  0.016667  0.808696   NaN  -8,371   \n2014-12-31  1002.666667  175.391304    -0,000  1.386957   NaN  -5,846   \n\n                 wilg  \n2007-01-01        NaN  \n2007-01-02        NaN  \n2007-01-03        NaN  \n2007-01-04        NaN  \n2007-01-05        NaN  \n...               ...  \n2014-12-27  94.833333  \n2014-12-28  90.291667  \n2014-12-29  90.458333  \n2014-12-30  89.166667  \n2014-12-31  80.500000  \n\n[2899 rows x 13 columns]",
      "text/html": "<div>\n<style scoped>\n    .dataframe tbody tr th:only-of-type {\n        vertical-align: middle;\n    }\n\n    .dataframe tbody tr th {\n        vertical-align: top;\n    }\n\n    .dataframe thead th {\n        text-align: right;\n    }\n</style>\n<table border=\"1\" class=\"dataframe\">\n  <thead>\n    <tr style=\"text-align: right;\">\n      <th></th>\n      <th>NO</th>\n      <th>NO2</th>\n      <th>NOx</th>\n      <th>PM10</th>\n      <th>PM2.5</th>\n      <th>SO2</th>\n      <th>cisnienie</th>\n      <th>kier</th>\n      <th>opad_atm</th>\n      <th>predk</th>\n      <th>prom</th>\n      <th>temp</th>\n      <th>wilg</th>\n    </tr>\n  </thead>\n  <tbody>\n    <tr>\n      <th>2007-01-01</th>\n      <td>NaN</td>\n      <td>9.521739</td>\n      <td>NaN</td>\n      <td>14.666667</td>\n      <td>NaN</td>\n      <td>4.000000</td>\n      <td>NaN</td>\n      <td>NaN</td>\n      <td>NaN</td>\n      <td>NaN</td>\n      <td>NaN</td>\n      <td>NaN</td>\n      <td>NaN</td>\n    </tr>\n    <tr>\n      <th>2007-01-02</th>\n      <td>NaN</td>\n      <td>17.347826</td>\n      <td>NaN</td>\n      <td>22.291667</td>\n      <td>NaN</td>\n      <td>NaN</td>\n      <td>NaN</td>\n      <td>NaN</td>\n      <td>NaN</td>\n      <td>NaN</td>\n      <td>NaN</td>\n      <td>NaN</td>\n      <td>NaN</td>\n    </tr>\n    <tr>\n      <th>2007-01-03</th>\n      <td>NaN</td>\n      <td>17.476190</td>\n      <td>NaN</td>\n      <td>17.217391</td>\n      <td>NaN</td>\n      <td>2.750000</td>\n      <td>NaN</td>\n      <td>NaN</td>\n      <td>NaN</td>\n      <td>NaN</td>\n      <td>NaN</td>\n      <td>NaN</td>\n      <td>NaN</td>\n    </tr>\n    <tr>\n      <th>2007-01-04</th>\n      <td>NaN</td>\n      <td>20.047619</td>\n      <td>NaN</td>\n      <td>13.333333</td>\n      <td>NaN</td>\n      <td>10.952381</td>\n      <td>NaN</td>\n      <td>NaN</td>\n      <td>NaN</td>\n      <td>NaN</td>\n      <td>NaN</td>\n      <td>NaN</td>\n      <td>NaN</td>\n    </tr>\n    <tr>\n      <th>2007-01-05</th>\n      <td>NaN</td>\n      <td>13.565217</td>\n      <td>NaN</td>\n      <td>13.791667</td>\n      <td>NaN</td>\n      <td>3.260870</td>\n      <td>NaN</td>\n      <td>NaN</td>\n      <td>NaN</td>\n      <td>NaN</td>\n      <td>NaN</td>\n      <td>NaN</td>\n      <td>NaN</td>\n    </tr>\n    <tr>\n      <th>...</th>\n      <td>...</td>\n      <td>...</td>\n      <td>...</td>\n      <td>...</td>\n      <td>...</td>\n      <td>...</td>\n      <td>...</td>\n      <td>...</td>\n      <td>...</td>\n      <td>...</td>\n      <td>...</td>\n      <td>...</td>\n      <td>...</td>\n    </tr>\n    <tr>\n      <th>2014-12-27</th>\n      <td>14.347826</td>\n      <td>26.782609</td>\n      <td>49.045455</td>\n      <td>124.708333</td>\n      <td>101.0</td>\n      <td>54.173913</td>\n      <td>986.083333</td>\n      <td>117.875000</td>\n      <td>0</td>\n      <td>1.154167</td>\n      <td>NaN</td>\n      <td>-8,458</td>\n      <td>94.833333</td>\n    </tr>\n    <tr>\n      <th>2014-12-28</th>\n      <td>2.272727</td>\n      <td>10.000000</td>\n      <td>13.095238</td>\n      <td>53.500000</td>\n      <td>38.0</td>\n      <td>24.217391</td>\n      <td>987.583333</td>\n      <td>224.521739</td>\n      <td>0</td>\n      <td>1.939130</td>\n      <td>NaN</td>\n      <td>-6,971</td>\n      <td>90.291667</td>\n    </tr>\n    <tr>\n      <th>2014-12-29</th>\n      <td>2.666667</td>\n      <td>8.272727</td>\n      <td>12.684211</td>\n      <td>36.625000</td>\n      <td>27.0</td>\n      <td>12.863636</td>\n      <td>994.750000</td>\n      <td>307.666667</td>\n      <td>0.008333</td>\n      <td>1.880952</td>\n      <td>NaN</td>\n      <td>-5,500</td>\n      <td>90.458333</td>\n    </tr>\n    <tr>\n      <th>2014-12-30</th>\n      <td>16.478261</td>\n      <td>16.739130</td>\n      <td>41.782609</td>\n      <td>67.142857</td>\n      <td>83.0</td>\n      <td>24.391304</td>\n      <td>1001.541667</td>\n      <td>253.260870</td>\n      <td>0.016667</td>\n      <td>0.808696</td>\n      <td>NaN</td>\n      <td>-8,371</td>\n      <td>89.166667</td>\n    </tr>\n    <tr>\n      <th>2014-12-31</th>\n      <td>5.478261</td>\n      <td>18.434783</td>\n      <td>26.782609</td>\n      <td>88.913043</td>\n      <td>80.0</td>\n      <td>55.217391</td>\n      <td>1002.666667</td>\n      <td>175.391304</td>\n      <td>-0,000</td>\n      <td>1.386957</td>\n      <td>NaN</td>\n      <td>-5,846</td>\n      <td>80.500000</td>\n    </tr>\n  </tbody>\n</table>\n<p>2899 rows × 13 columns</p>\n</div>"
     },
     "execution_count": 12,
     "metadata": {},
     "output_type": "execute_result"
    }
   ],
   "source": [
    "df_gliwice = pd.read_excel('data/Gliwice_poprawione.xls', index_col=0)\n",
    "df_gliwice"
   ],
   "metadata": {
    "collapsed": false,
    "pycharm": {
     "name": "#%%\n"
    }
   }
  },
  {
   "cell_type": "code",
   "execution_count": 28,
   "outputs": [
    {
     "data": {
      "text/plain": "                   NO        NO2        NOx         O3        PM10        SO2  \\\n2007-01-01        NaN  11.217391        NaN  50.416667   10.125000   9.608696   \n2007-01-02        NaN  17.956522        NaN  42.652174   17.291667   9.869565   \n2007-01-03        NaN  17.652174        NaN  33.608696   18.583333   8.782609   \n2007-01-04        NaN  11.956522        NaN  44.782609    8.333333   8.173913   \n2007-01-05        NaN  18.086957        NaN  38.739130   17.625000  13.826087   \n...               ...        ...        ...        ...         ...        ...   \n2014-12-27   5.818182  28.181818  36.863636        NaN   55.875000  38.363636   \n2014-12-28   1.739130  17.695652  20.086957        NaN   49.000000  19.652174   \n2014-12-29   2.130435  18.043478  20.956522        NaN   41.083333  13.000000   \n2014-12-30  16.695652  29.869565  55.217391        NaN   68.500000  23.347826   \n2014-12-31  18.913043  26.086957  54.608696        NaN  126.666667  41.000000   \n\n              cisnienie  kier  opad_atm  predk       prom    temp       wilg  \n2007-01-01          NaN   NaN       NaN    NaN        NaN     NaN        NaN  \n2007-01-02          NaN   NaN       NaN    NaN        NaN     NaN        NaN  \n2007-01-03          NaN   NaN       NaN    NaN        NaN     NaN        NaN  \n2007-01-04          NaN   NaN       NaN    NaN        NaN     NaN        NaN  \n2007-01-05          NaN   NaN       NaN    NaN        NaN     NaN        NaN  \n...                 ...   ...       ...    ...        ...     ...        ...  \n2014-12-27   984.541667   NaN  0.000000    NaN  14.416667  -7,663  86.916667  \n2014-12-28   985.625000   NaN  0.000000    NaN  10.666667  -6,154  82.750000  \n2014-12-29   992.916667   NaN  0.000000    NaN  14.333333  -5,408  79.333333  \n2014-12-30   999.958333   NaN  0.000000    NaN  27.708333  -8,054  77.083333  \n2014-12-31  1001.541667   NaN  0.008333    NaN  30.833333  -5,713  70.208333  \n\n[2894 rows x 13 columns]",
      "text/html": "<div>\n<style scoped>\n    .dataframe tbody tr th:only-of-type {\n        vertical-align: middle;\n    }\n\n    .dataframe tbody tr th {\n        vertical-align: top;\n    }\n\n    .dataframe thead th {\n        text-align: right;\n    }\n</style>\n<table border=\"1\" class=\"dataframe\">\n  <thead>\n    <tr style=\"text-align: right;\">\n      <th></th>\n      <th>NO</th>\n      <th>NO2</th>\n      <th>NOx</th>\n      <th>O3</th>\n      <th>PM10</th>\n      <th>SO2</th>\n      <th>cisnienie</th>\n      <th>kier</th>\n      <th>opad_atm</th>\n      <th>predk</th>\n      <th>prom</th>\n      <th>temp</th>\n      <th>wilg</th>\n    </tr>\n  </thead>\n  <tbody>\n    <tr>\n      <th>2007-01-01</th>\n      <td>NaN</td>\n      <td>11.217391</td>\n      <td>NaN</td>\n      <td>50.416667</td>\n      <td>10.125000</td>\n      <td>9.608696</td>\n      <td>NaN</td>\n      <td>NaN</td>\n      <td>NaN</td>\n      <td>NaN</td>\n      <td>NaN</td>\n      <td>NaN</td>\n      <td>NaN</td>\n    </tr>\n    <tr>\n      <th>2007-01-02</th>\n      <td>NaN</td>\n      <td>17.956522</td>\n      <td>NaN</td>\n      <td>42.652174</td>\n      <td>17.291667</td>\n      <td>9.869565</td>\n      <td>NaN</td>\n      <td>NaN</td>\n      <td>NaN</td>\n      <td>NaN</td>\n      <td>NaN</td>\n      <td>NaN</td>\n      <td>NaN</td>\n    </tr>\n    <tr>\n      <th>2007-01-03</th>\n      <td>NaN</td>\n      <td>17.652174</td>\n      <td>NaN</td>\n      <td>33.608696</td>\n      <td>18.583333</td>\n      <td>8.782609</td>\n      <td>NaN</td>\n      <td>NaN</td>\n      <td>NaN</td>\n      <td>NaN</td>\n      <td>NaN</td>\n      <td>NaN</td>\n      <td>NaN</td>\n    </tr>\n    <tr>\n      <th>2007-01-04</th>\n      <td>NaN</td>\n      <td>11.956522</td>\n      <td>NaN</td>\n      <td>44.782609</td>\n      <td>8.333333</td>\n      <td>8.173913</td>\n      <td>NaN</td>\n      <td>NaN</td>\n      <td>NaN</td>\n      <td>NaN</td>\n      <td>NaN</td>\n      <td>NaN</td>\n      <td>NaN</td>\n    </tr>\n    <tr>\n      <th>2007-01-05</th>\n      <td>NaN</td>\n      <td>18.086957</td>\n      <td>NaN</td>\n      <td>38.739130</td>\n      <td>17.625000</td>\n      <td>13.826087</td>\n      <td>NaN</td>\n      <td>NaN</td>\n      <td>NaN</td>\n      <td>NaN</td>\n      <td>NaN</td>\n      <td>NaN</td>\n      <td>NaN</td>\n    </tr>\n    <tr>\n      <th>...</th>\n      <td>...</td>\n      <td>...</td>\n      <td>...</td>\n      <td>...</td>\n      <td>...</td>\n      <td>...</td>\n      <td>...</td>\n      <td>...</td>\n      <td>...</td>\n      <td>...</td>\n      <td>...</td>\n      <td>...</td>\n      <td>...</td>\n    </tr>\n    <tr>\n      <th>2014-12-27</th>\n      <td>5.818182</td>\n      <td>28.181818</td>\n      <td>36.863636</td>\n      <td>NaN</td>\n      <td>55.875000</td>\n      <td>38.363636</td>\n      <td>984.541667</td>\n      <td>NaN</td>\n      <td>0.000000</td>\n      <td>NaN</td>\n      <td>14.416667</td>\n      <td>-7,663</td>\n      <td>86.916667</td>\n    </tr>\n    <tr>\n      <th>2014-12-28</th>\n      <td>1.739130</td>\n      <td>17.695652</td>\n      <td>20.086957</td>\n      <td>NaN</td>\n      <td>49.000000</td>\n      <td>19.652174</td>\n      <td>985.625000</td>\n      <td>NaN</td>\n      <td>0.000000</td>\n      <td>NaN</td>\n      <td>10.666667</td>\n      <td>-6,154</td>\n      <td>82.750000</td>\n    </tr>\n    <tr>\n      <th>2014-12-29</th>\n      <td>2.130435</td>\n      <td>18.043478</td>\n      <td>20.956522</td>\n      <td>NaN</td>\n      <td>41.083333</td>\n      <td>13.000000</td>\n      <td>992.916667</td>\n      <td>NaN</td>\n      <td>0.000000</td>\n      <td>NaN</td>\n      <td>14.333333</td>\n      <td>-5,408</td>\n      <td>79.333333</td>\n    </tr>\n    <tr>\n      <th>2014-12-30</th>\n      <td>16.695652</td>\n      <td>29.869565</td>\n      <td>55.217391</td>\n      <td>NaN</td>\n      <td>68.500000</td>\n      <td>23.347826</td>\n      <td>999.958333</td>\n      <td>NaN</td>\n      <td>0.000000</td>\n      <td>NaN</td>\n      <td>27.708333</td>\n      <td>-8,054</td>\n      <td>77.083333</td>\n    </tr>\n    <tr>\n      <th>2014-12-31</th>\n      <td>18.913043</td>\n      <td>26.086957</td>\n      <td>54.608696</td>\n      <td>NaN</td>\n      <td>126.666667</td>\n      <td>41.000000</td>\n      <td>1001.541667</td>\n      <td>NaN</td>\n      <td>0.008333</td>\n      <td>NaN</td>\n      <td>30.833333</td>\n      <td>-5,713</td>\n      <td>70.208333</td>\n    </tr>\n  </tbody>\n</table>\n<p>2894 rows × 13 columns</p>\n</div>"
     },
     "execution_count": 28,
     "metadata": {},
     "output_type": "execute_result"
    }
   ],
   "source": [
    "df_tychy = pd.read_excel('data/Tychy 24h 2007-2014.xlsx', header=3, skiprows=[4], index_col=0)\n",
    "df_tychy"
   ],
   "metadata": {
    "collapsed": false,
    "pycharm": {
     "name": "#%%\n"
    }
   }
  },
  {
   "cell_type": "code",
   "execution_count": null,
   "outputs": [],
   "source": [],
   "metadata": {
    "collapsed": false,
    "pycharm": {
     "name": "#%%\n"
    }
   }
  }
 ],
 "metadata": {
  "kernelspec": {
   "display_name": "Python 3",
   "language": "python",
   "name": "python3"
  },
  "language_info": {
   "codemirror_mode": {
    "name": "ipython",
    "version": 2
   },
   "file_extension": ".py",
   "mimetype": "text/x-python",
   "name": "python",
   "nbconvert_exporter": "python",
   "pygments_lexer": "ipython2",
   "version": "2.7.6"
  }
 },
 "nbformat": 4,
 "nbformat_minor": 0
}